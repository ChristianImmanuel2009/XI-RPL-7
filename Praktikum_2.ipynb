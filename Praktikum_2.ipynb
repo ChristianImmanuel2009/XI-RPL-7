{
  "nbformat": 4,
  "nbformat_minor": 0,
  "metadata": {
    "colab": {
      "provenance": [],
      "authorship_tag": "ABX9TyNIgQub3D73tg0EYMJ/m+Pr",
      "include_colab_link": true
    },
    "kernelspec": {
      "name": "python3",
      "display_name": "Python 3"
    },
    "language_info": {
      "name": "python"
    }
  },
  "cells": [
    {
      "cell_type": "markdown",
      "metadata": {
        "id": "view-in-github",
        "colab_type": "text"
      },
      "source": [
        "<a href=\"https://colab.research.google.com/github/ChristianImmanuel2009/XI-RPL-7/blob/main/Praktikum_2.ipynb\" target=\"_parent\"><img src=\"https://colab.research.google.com/assets/colab-badge.svg\" alt=\"Open In Colab\"/></a>"
      ]
    },
    {
      "cell_type": "code",
      "source": [
        "#Coding Casting Data Type"
      ],
      "metadata": {
        "id": "PSNSPGt1y79d"
      },
      "execution_count": 59,
      "outputs": []
    },
    {
      "cell_type": "code",
      "execution_count": 60,
      "metadata": {
        "id": "xehiwBNxh0qx",
        "colab": {
          "base_uri": "https://localhost:8080/"
        },
        "outputId": "ae85933f-ac9e-4f2f-f065-882423b7bcec"
      },
      "outputs": [
        {
          "output_type": "stream",
          "name": "stdout",
          "text": [
            "Casting Data Type\n",
            "No. 1 :\n",
            "Before casting : 456 , the data type is <class 'str'>\n",
            "After casting : 456 , the data type is <class 'int'>\n"
          ]
        }
      ],
      "source": [
        "print(\"Casting Data Type\")\n",
        "print(\"No. 1 :\")\n",
        "str_numbers = \"456\"\n",
        "str_numbers_to_int = int(str_numbers)\n",
        "print(\"Before casting :\", str_numbers, \", the data type is\",\n",
        "type(str_numbers))\n",
        "print(\"After casting :\", str_numbers_to_int, \", the data type is\",\n",
        "type(str_numbers_to_int))"
      ]
    },
    {
      "cell_type": "code",
      "source": [
        "print(\"Casting Data Type\")\n",
        "print(\"No. 2 :\")\n",
        "integer = 12345\n",
        "integer_to_str = str(integer)\n",
        "print(\"Before casting :\", integer, \", the data type is\", type(integer))\n",
        "print(\"After casting :\", integer_to_str, \", the data type is\",\n",
        "type(integer_to_str))"
      ],
      "metadata": {
        "id": "dDlCeHdJynlE",
        "colab": {
          "base_uri": "https://localhost:8080/"
        },
        "outputId": "a36e4148-7576-4951-f67b-5f666300d4f8"
      },
      "execution_count": 61,
      "outputs": [
        {
          "output_type": "stream",
          "name": "stdout",
          "text": [
            "Casting Data Type\n",
            "No. 2 :\n",
            "Before casting : 12345 , the data type is <class 'int'>\n",
            "After casting : 12345 , the data type is <class 'str'>\n"
          ]
        }
      ]
    },
    {
      "cell_type": "code",
      "source": [
        "print(\"Casting Data Type\")\n",
        "print(\"No. 3 :\")\n",
        "num_int = 1\n",
        "num_bool = bool(num_int)\n",
        "print(num_bool, type(num_bool))\n",
        "num_int = 0\n",
        "num_bool = bool(num_int)\n",
        "print(num_bool, type(num_bool))"
      ],
      "metadata": {
        "id": "I4XZVxX4ywEg",
        "colab": {
          "base_uri": "https://localhost:8080/"
        },
        "outputId": "ed6be2fa-529e-4c4b-851a-ace8e04675d7"
      },
      "execution_count": 62,
      "outputs": [
        {
          "output_type": "stream",
          "name": "stdout",
          "text": [
            "Casting Data Type\n",
            "No. 3 :\n",
            "True <class 'bool'>\n",
            "False <class 'bool'>\n"
          ]
        }
      ]
    },
    {
      "cell_type": "code",
      "source": [
        "#Koding Comparison Operators"
      ],
      "metadata": {
        "id": "fzDblYiizzyF"
      },
      "execution_count": 63,
      "outputs": []
    },
    {
      "cell_type": "code",
      "source": [
        "8 == 8\n",
        "8 != 9\n",
        "8 > 9\n",
        "8 < 9\n",
        "8 <= 9\n",
        "9 >= 9"
      ],
      "metadata": {
        "id": "UnJYjti6zrZC",
        "colab": {
          "base_uri": "https://localhost:8080/"
        },
        "outputId": "0a9eade5-d00d-49b0-9a92-f25df80cc9a3"
      },
      "execution_count": 64,
      "outputs": [
        {
          "output_type": "execute_result",
          "data": {
            "text/plain": [
              "True"
            ]
          },
          "metadata": {},
          "execution_count": 64
        }
      ]
    },
    {
      "cell_type": "code",
      "source": [
        "#Koding logical operators"
      ],
      "metadata": {
        "id": "Siz-pehY0PrX"
      },
      "execution_count": 65,
      "outputs": []
    },
    {
      "cell_type": "code",
      "source": [
        "a = True\n",
        "b = True\n",
        "print(a and b)\n",
        "print(a or b)\n",
        "print(not b)\n",
        "#logic\n",
        "5 > 6 and 6 < 7"
      ],
      "metadata": {
        "id": "VQzKqrH50A50",
        "colab": {
          "base_uri": "https://localhost:8080/"
        },
        "outputId": "79166a3f-39c7-4fe0-ec3b-5d583d6cbc42"
      },
      "execution_count": 66,
      "outputs": [
        {
          "output_type": "stream",
          "name": "stdout",
          "text": [
            "True\n",
            "True\n",
            "False\n"
          ]
        },
        {
          "output_type": "execute_result",
          "data": {
            "text/plain": [
              "False"
            ]
          },
          "metadata": {},
          "execution_count": 66
        }
      ]
    },
    {
      "cell_type": "code",
      "source": [
        "#Koding arithmetic operators"
      ],
      "metadata": {
        "id": "QP0tvDRj0bC_"
      },
      "execution_count": 67,
      "outputs": []
    },
    {
      "cell_type": "code",
      "source": [
        "e = 8\n",
        "f = 2\n",
        "\n",
        "# Summation/jumlah jika keduanya ditambahkan\n",
        "sum = e + f\n",
        "print(f\"The sum of e with f is : {sum}\\n\")\n",
        "# Reduction/selisih antara nilai e dan f\n",
        "red = e - f\n",
        "print(f\"The reduction of e with f is : {red}\\n\")\n",
        "\n",
        "# Multiplication/jika nilai e dikalikan f\n",
        "multi = e * f\n",
        "print(f\"The multipication of e with f is : {multi}\\n\")\n",
        "# Division/jika nilai e dibagi dengan f\n",
        "divi = e / f\n",
        "print(f\"The quotient of e with f is : {divi}\\n\")\n",
        "# Modulo/jumlah nilai yang tersisa dari hasil bagi nilai e dengan nilai f\n",
        "mod = e % f\n",
        "print(f\"The remainder of e with f is : {mod}\\n\")\n",
        "# Power/jumlah nilai e jika dipangkatkan dengan nilai f\n",
        "pow = e ** f\n",
        "print(f\"The power of e of f is : {pow}\\n\")"
      ],
      "metadata": {
        "id": "aRmuJRn70Z83",
        "colab": {
          "base_uri": "https://localhost:8080/"
        },
        "outputId": "6cb99b5d-6bdc-452d-fbb3-be957ae360ea"
      },
      "execution_count": 68,
      "outputs": [
        {
          "output_type": "stream",
          "name": "stdout",
          "text": [
            "The sum of e with f is : 10\n",
            "\n",
            "The reduction of e with f is : 6\n",
            "\n",
            "The multipication of e with f is : 16\n",
            "\n",
            "The quotient of e with f is : 4.0\n",
            "\n",
            "The remainder of e with f is : 0\n",
            "\n",
            "The power of e of f is : 64\n",
            "\n"
          ]
        }
      ]
    },
    {
      "cell_type": "code",
      "source": [
        "#Koding Input Output"
      ],
      "metadata": {
        "id": "csHAD5oQ1eGR"
      },
      "execution_count": 69,
      "outputs": []
    },
    {
      "cell_type": "code",
      "source": [
        "name = str(input(\"What is your name : \"))\n",
        "age = int(input(\"What's your age : \"))\n",
        "print(\"Name: \", name)\n",
        "print(\"Age: \", age)"
      ],
      "metadata": {
        "id": "VOTxju7P1rfh",
        "colab": {
          "base_uri": "https://localhost:8080/"
        },
        "outputId": "3634d19a-de0a-4c30-d36f-844a5ea89c9d"
      },
      "execution_count": 70,
      "outputs": [
        {
          "output_type": "stream",
          "name": "stdout",
          "text": [
            "What is your name : chris\n",
            "What's your age : 16\n",
            "Name:  chris\n",
            "Age:  16\n"
          ]
        }
      ]
    },
    {
      "cell_type": "code",
      "source": [
        "# normal print\n",
        "print('Hi all! I am', name, 'age', age, 'years old')\n",
        "# format print\n",
        "print(f'Hi all! I am {name} age {age} years old')\n",
        "# format print\n",
        "print(f'Hi all! I am %s age %d years old'%(name, age))\n",
        "# fortmat output\n",
        "print(30*\"=\")\n",
        "print(\"Temperature Calculator Program\")\n",
        "print(30*\"=\")"
      ],
      "metadata": {
        "id": "lKy0bpsg1x7p",
        "colab": {
          "base_uri": "https://localhost:8080/"
        },
        "outputId": "c0c7a4ee-6ec3-49c7-b4a1-cb0dbc05d0bb"
      },
      "execution_count": 71,
      "outputs": [
        {
          "output_type": "stream",
          "name": "stdout",
          "text": [
            "Hi all! I am chris age 16 years old\n",
            "Hi all! I am chris age 16 years old\n",
            "Hi all! I am chris age 16 years old\n",
            "==============================\n",
            "Temperature Calculator Program\n",
            "==============================\n"
          ]
        }
      ]
    },
    {
      "cell_type": "code",
      "source": [
        "#Koding Conditionals Dan Exception Handling1"
      ],
      "metadata": {
        "id": "cQSQF5Jf5EOv"
      },
      "execution_count": 72,
      "outputs": []
    },
    {
      "cell_type": "code",
      "source": [
        "try:\n",
        "    your_GPA = float(input(\"Enter your GPA: \"))\n",
        "    if 4.0 >= your_GPA >= 0.0:\n",
        "        if 4.0 >= your_GPA >= 3.80:\n",
        "            print(f\"Damn you've got a magna cumlaude with your {your_GPA} GPA\")\n",
        "        elif 3.50 <= your_GPA < 3.80:\n",
        "            print(f\"Cool!! You've got a cumlaude with your {your_GPA} GPA\")\n",
        "        elif 3.00 <= your_GPA < 3.50:\n",
        "            print(f\"You've got a stable GPA tho\")\n",
        "        elif your_GPA < 3.00:\n",
        "            print(f\"You need a stable GPA\")\n",
        "    else:\n",
        "        print(f\"Sorry, your GPA {your_GPA} is out of range and invalid\")\n",
        "except:\n",
        "    print(\"Please enter a valid GPA\")\n"
      ],
      "metadata": {
        "id": "IjrHldno2Pbl",
        "colab": {
          "base_uri": "https://localhost:8080/"
        },
        "outputId": "8bf1a51a-6f9e-4092-cd36-1728beb8e973"
      },
      "execution_count": 73,
      "outputs": [
        {
          "output_type": "stream",
          "name": "stdout",
          "text": [
            "Enter your GPA: 3.99\n",
            "Damn you've got a magna cumlaude with your 3.99 GPA\n"
          ]
        }
      ]
    },
    {
      "cell_type": "code",
      "source": [
        "try:\n",
        "    status_code = int(input(\"Enter your status code: \"))\n",
        "    print(\"Your code means:\")\n",
        "\n",
        "    match status_code:\n",
        "        case 200:\n",
        "            print(\"Success!\")\n",
        "        case 400:\n",
        "            print(\"Bad Request\")\n",
        "        case 401:\n",
        "            print(\"Unauthorized\")\n",
        "        case 402:\n",
        "            print(\"Payment Required\")\n",
        "        case 403:\n",
        "            print(\"Forbidden\")\n",
        "        case 404:\n",
        "            print(\"Not Found\")\n",
        "        case 500:\n",
        "            print(\"Internal Server Error\")\n",
        "        case _:\n",
        "            print(\"Unknown status code\")\n",
        "\n",
        "except:\n",
        "    print(\"Please enter a valid status code\")"
      ],
      "metadata": {
        "id": "hd1aInte5Sbt",
        "colab": {
          "base_uri": "https://localhost:8080/"
        },
        "outputId": "be393243-a555-4de5-de3c-a4762aea5ef4"
      },
      "execution_count": 74,
      "outputs": [
        {
          "output_type": "stream",
          "name": "stdout",
          "text": [
            "Enter your status code: 200\n",
            "Your code means:\n",
            "Success!\n"
          ]
        }
      ]
    },
    {
      "cell_type": "code",
      "source": [
        "a = 3\n",
        "b = \"Even Numbers\" if a % 2 == 0 else \"Odd Numbers\"\n",
        "print(b)"
      ],
      "metadata": {
        "id": "GJkjdggf5r5_",
        "colab": {
          "base_uri": "https://localhost:8080/"
        },
        "outputId": "95f62966-9173-4fb6-afa5-c71faa9d6143"
      },
      "execution_count": 75,
      "outputs": [
        {
          "output_type": "stream",
          "name": "stdout",
          "text": [
            "Odd Numbers\n"
          ]
        }
      ]
    },
    {
      "cell_type": "code",
      "source": [
        "# For loop simple\n",
        "for i in range(5):\n",
        "    print(i)\n",
        "\n",
        "# For loop with range\n",
        "for i in range(5):\n",
        "    print(\"Data science is easy!\")\n",
        "print(50 * \"=\")\n",
        "\n",
        "for i in range(1, 5, 2):\n",
        "    print(\"Data science is easy!\")"
      ],
      "metadata": {
        "id": "ZEES0ecW5u82",
        "colab": {
          "base_uri": "https://localhost:8080/"
        },
        "outputId": "53d151de-7846-4c4c-c2af-ae363dfb0f42"
      },
      "execution_count": 76,
      "outputs": [
        {
          "output_type": "stream",
          "name": "stdout",
          "text": [
            "0\n",
            "1\n",
            "2\n",
            "3\n",
            "4\n",
            "Data science is easy!\n",
            "Data science is easy!\n",
            "Data science is easy!\n",
            "Data science is easy!\n",
            "Data science is easy!\n",
            "==================================================\n",
            "Data science is easy!\n",
            "Data science is easy!\n"
          ]
        }
      ]
    },
    {
      "cell_type": "code",
      "source": [
        "word = \"I want to master data science\"\n",
        "\n",
        "for letter in word:\n",
        "    print(letter)"
      ],
      "metadata": {
        "id": "5ShuaCyG6AWh",
        "colab": {
          "base_uri": "https://localhost:8080/"
        },
        "outputId": "17c94ba7-7adf-4ea4-f70f-d157096b446d"
      },
      "execution_count": 77,
      "outputs": [
        {
          "output_type": "stream",
          "name": "stdout",
          "text": [
            "I\n",
            " \n",
            "w\n",
            "a\n",
            "n\n",
            "t\n",
            " \n",
            "t\n",
            "o\n",
            " \n",
            "m\n",
            "a\n",
            "s\n",
            "t\n",
            "e\n",
            "r\n",
            " \n",
            "d\n",
            "a\n",
            "t\n",
            "a\n",
            " \n",
            "s\n",
            "c\n",
            "i\n",
            "e\n",
            "n\n",
            "c\n",
            "e\n"
          ]
        }
      ]
    },
    {
      "cell_type": "code",
      "source": [
        "for m, n in enumerate(word):\n",
        "    print(f\"Index {m}. {n}\")"
      ],
      "metadata": {
        "id": "3cUCjXMU6WXt",
        "colab": {
          "base_uri": "https://localhost:8080/"
        },
        "outputId": "d28e0535-52ba-48d8-bc73-aa72494f1eda"
      },
      "execution_count": 78,
      "outputs": [
        {
          "output_type": "stream",
          "name": "stdout",
          "text": [
            "Index 0. I\n",
            "Index 1.  \n",
            "Index 2. w\n",
            "Index 3. a\n",
            "Index 4. n\n",
            "Index 5. t\n",
            "Index 6.  \n",
            "Index 7. t\n",
            "Index 8. o\n",
            "Index 9.  \n",
            "Index 10. m\n",
            "Index 11. a\n",
            "Index 12. s\n",
            "Index 13. t\n",
            "Index 14. e\n",
            "Index 15. r\n",
            "Index 16.  \n",
            "Index 17. d\n",
            "Index 18. a\n",
            "Index 19. t\n",
            "Index 20. a\n",
            "Index 21.  \n",
            "Index 22. s\n",
            "Index 23. c\n",
            "Index 24. i\n",
            "Index 25. e\n",
            "Index 26. n\n",
            "Index 27. c\n",
            "Index 28. e\n"
          ]
        }
      ]
    },
    {
      "cell_type": "code",
      "source": [
        "for i in range(5,1,-1):\n",
        "   print(\"I want big data's\")"
      ],
      "metadata": {
        "id": "xr1ei0Um6gZy",
        "colab": {
          "base_uri": "https://localhost:8080/"
        },
        "outputId": "ad4ccf5d-d5fa-48ee-892b-3f24c919bba1"
      },
      "execution_count": 79,
      "outputs": [
        {
          "output_type": "stream",
          "name": "stdout",
          "text": [
            "I want big data's\n",
            "I want big data's\n",
            "I want big data's\n",
            "I want big data's\n"
          ]
        }
      ]
    },
    {
      "cell_type": "code",
      "source": [
        "for i in range(5):\n",
        "    if i == 2:\n",
        "     continue # skip theis loop when i is equal to 2\n",
        "    if i == 4:\n",
        "        break # stops the loop when i is equal to 4\n",
        "print(i)"
      ],
      "metadata": {
        "id": "y6qfpuQS6j6v",
        "colab": {
          "base_uri": "https://localhost:8080/"
        },
        "outputId": "108159ce-ca11-47af-e51e-fc0d5daf6239"
      },
      "execution_count": 80,
      "outputs": [
        {
          "output_type": "stream",
          "name": "stdout",
          "text": [
            "4\n"
          ]
        }
      ]
    },
    {
      "cell_type": "code",
      "source": [
        "count = 0\n",
        "while count < 4:\n",
        "    print(\"Keep the spirits up interns!\")\n",
        "    count += 1"
      ],
      "metadata": {
        "colab": {
          "base_uri": "https://localhost:8080/"
        },
        "id": "o8rhBRe662pf",
        "outputId": "823d2881-710a-4ee5-e677-2e48aa8b7515"
      },
      "execution_count": 81,
      "outputs": [
        {
          "output_type": "stream",
          "name": "stdout",
          "text": [
            "Keep the spirits up interns!\n",
            "Keep the spirits up interns!\n",
            "Keep the spirits up interns!\n",
            "Keep the spirits up interns!\n"
          ]
        }
      ]
    }
  ]
}