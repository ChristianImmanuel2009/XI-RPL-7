{
  "nbformat": 4,
  "nbformat_minor": 0,
  "metadata": {
    "colab": {
      "provenance": [],
      "authorship_tag": "ABX9TyNP8SMxDrvTDrnB3HFKtRQf",
      "include_colab_link": true
    },
    "kernelspec": {
      "name": "python3",
      "display_name": "Python 3"
    },
    "language_info": {
      "name": "python"
    }
  },
  "cells": [
    {
      "cell_type": "markdown",
      "metadata": {
        "id": "view-in-github",
        "colab_type": "text"
      },
      "source": [
        "<a href=\"https://colab.research.google.com/github/ChristianImmanuel2009/XI-RPL-7/blob/main/Praktikum_1.ipynb\" target=\"_parent\"><img src=\"https://colab.research.google.com/assets/colab-badge.svg\" alt=\"Open In Colab\"/></a>"
      ]
    },
    {
      "cell_type": "code",
      "source": [
        "a = 3"
      ],
      "metadata": {
        "id": "z2D1TZ_2P66l"
      },
      "execution_count": 1,
      "outputs": []
    },
    {
      "cell_type": "code",
      "source": [
        "a"
      ],
      "metadata": {
        "colab": {
          "base_uri": "https://localhost:8080/"
        },
        "id": "huchc1xTP8sZ",
        "outputId": "2bb90e9f-e524-46f4-f48a-7adaada167b9"
      },
      "execution_count": 2,
      "outputs": [
        {
          "output_type": "execute_result",
          "data": {
            "text/plain": [
              "3"
            ]
          },
          "metadata": {},
          "execution_count": 2
        }
      ]
    },
    {
      "cell_type": "code",
      "source": [
        "type(a)"
      ],
      "metadata": {
        "colab": {
          "base_uri": "https://localhost:8080/"
        },
        "id": "SOkkL0SuP-NF",
        "outputId": "b232d71f-d11f-4805-c961-b5e235a81270"
      },
      "execution_count": 3,
      "outputs": [
        {
          "output_type": "execute_result",
          "data": {
            "text/plain": [
              "int"
            ]
          },
          "metadata": {},
          "execution_count": 3
        }
      ]
    },
    {
      "cell_type": "code",
      "source": [
        "a = a + 4"
      ],
      "metadata": {
        "id": "mPBC34SrQB_z"
      },
      "execution_count": 4,
      "outputs": []
    },
    {
      "cell_type": "code",
      "source": [
        "a"
      ],
      "metadata": {
        "colab": {
          "base_uri": "https://localhost:8080/"
        },
        "id": "78MK7nofQKb4",
        "outputId": "148ddfde-fd03-44de-ecff-49f4da4fa53e"
      },
      "execution_count": 5,
      "outputs": [
        {
          "output_type": "execute_result",
          "data": {
            "text/plain": [
              "7"
            ]
          },
          "metadata": {},
          "execution_count": 5
        }
      ]
    },
    {
      "cell_type": "code",
      "source": [
        "contoh_teks = 'Halo Semuaa'\n",
        "type(contoh_teks)"
      ],
      "metadata": {
        "colab": {
          "base_uri": "https://localhost:8080/"
        },
        "id": "vkga9gRJQdP8",
        "outputId": "9ab5f105-c3bc-49c4-dd20-ca587d7a5a2d"
      },
      "execution_count": 6,
      "outputs": [
        {
          "output_type": "execute_result",
          "data": {
            "text/plain": [
              "str"
            ]
          },
          "metadata": {},
          "execution_count": 6
        }
      ]
    },
    {
      "cell_type": "code",
      "source": [
        "print(contoh_teks)"
      ],
      "metadata": {
        "colab": {
          "base_uri": "https://localhost:8080/"
        },
        "id": "rY6Id2S4a6QD",
        "outputId": "f08faca6-172b-49f7-b850-7d0c47d0d853"
      },
      "execution_count": 7,
      "outputs": [
        {
          "output_type": "stream",
          "name": "stdout",
          "text": [
            "Halo Semuaa\n"
          ]
        }
      ]
    },
    {
      "cell_type": "code",
      "source": [
        "contoh_list = [1,2,3,4,5,6]\n",
        "type(contoh_list)"
      ],
      "metadata": {
        "colab": {
          "base_uri": "https://localhost:8080/"
        },
        "id": "vaaBrbPeREkb",
        "outputId": "6c801e7b-eeee-42c6-cb14-86d56870a02f"
      },
      "execution_count": 8,
      "outputs": [
        {
          "output_type": "execute_result",
          "data": {
            "text/plain": [
              "list"
            ]
          },
          "metadata": {},
          "execution_count": 8
        }
      ]
    },
    {
      "cell_type": "code",
      "source": [],
      "metadata": {
        "id": "bRgi1JKTSWUx"
      },
      "execution_count": 8,
      "outputs": []
    },
    {
      "cell_type": "code",
      "source": [
        "contoh_list_kedua = ['a', 'b', 'c', 'd', 'e',]"
      ],
      "metadata": {
        "id": "nSH9iloHSWYV"
      },
      "execution_count": 9,
      "outputs": []
    },
    {
      "cell_type": "code",
      "source": [
        "contoh_list_kedua[3]"
      ],
      "metadata": {
        "colab": {
          "base_uri": "https://localhost:8080/",
          "height": 36
        },
        "id": "S0BoAI9hS3tn",
        "outputId": "d2a35ca5-effc-4759-e826-5654ba3384d4"
      },
      "execution_count": 10,
      "outputs": [
        {
          "output_type": "execute_result",
          "data": {
            "text/plain": [
              "'d'"
            ],
            "application/vnd.google.colaboratory.intrinsic+json": {
              "type": "string"
            }
          },
          "metadata": {},
          "execution_count": 10
        }
      ]
    },
    {
      "cell_type": "code",
      "source": [
        "print(\"Soal 1 : (a)\")\n",
        "x_int = 10\n",
        "x_float = 3.14\n",
        "x_str = \"Salam Damai\"\n",
        "x_list = [1,2,3]"
      ],
      "metadata": {
        "colab": {
          "base_uri": "https://localhost:8080/"
        },
        "id": "DwhcwyERS8Vq",
        "outputId": "0a2dd777-daa6-49ba-d210-c784f66159ac"
      },
      "execution_count": 11,
      "outputs": [
        {
          "output_type": "stream",
          "name": "stdout",
          "text": [
            "Soal 1 : (a)\n"
          ]
        }
      ]
    },
    {
      "cell_type": "code",
      "source": [
        "print(\"Soal 1 : (b)\")\n",
        "print( )\n",
        "print(x_int, type(x_int))\n",
        "print(x_float, type(x_float))\n",
        "print(x_str, type(x_str))\n",
        "print(x_list, type(x_list))"
      ],
      "metadata": {
        "colab": {
          "base_uri": "https://localhost:8080/"
        },
        "id": "zpomuOiIWrOs",
        "outputId": "459a635e-fc23-4f5e-c963-160f345ce11d"
      },
      "execution_count": 12,
      "outputs": [
        {
          "output_type": "stream",
          "name": "stdout",
          "text": [
            "Soal 1 : (b)\n",
            "\n",
            "10 <class 'int'>\n",
            "3.14 <class 'float'>\n",
            "Salam Damai <class 'str'>\n",
            "[1, 2, 3] <class 'list'>\n"
          ]
        }
      ]
    },
    {
      "cell_type": "code",
      "source": [
        "ListBelanja = [\"Beras\", \"Minyak\", \"Telur\"]\n",
        "print(\"Soal 2 : (a)\")\n",
        "print( )\n",
        "print(ListBelanja)"
      ],
      "metadata": {
        "colab": {
          "base_uri": "https://localhost:8080/"
        },
        "id": "MmGsK5OPYeV7",
        "outputId": "a70cc122-3766-49f9-8a50-f9702dbb8b6e"
      },
      "execution_count": 13,
      "outputs": [
        {
          "output_type": "stream",
          "name": "stdout",
          "text": [
            "Soal 2 : (a)\n",
            "\n",
            "['Beras', 'Minyak', 'Telur']\n"
          ]
        }
      ]
    },
    {
      "cell_type": "code",
      "source": [
        "ListBelanja.append(\"Gula\")\n",
        "ListBelanja.append(\"Kopi\")\n",
        "print(\"Soal 2 : (b, c)\")\n",
        "print( )\n",
        "print(ListBelanja)"
      ],
      "metadata": {
        "colab": {
          "base_uri": "https://localhost:8080/"
        },
        "id": "o_JYPJv8jXxC",
        "outputId": "be4b82f2-9ba6-45be-8c00-b83ece9ba4d1"
      },
      "execution_count": 14,
      "outputs": [
        {
          "output_type": "stream",
          "name": "stdout",
          "text": [
            "Soal 2 : (b, c)\n",
            "\n",
            "['Beras', 'Minyak', 'Telur', 'Gula', 'Kopi']\n"
          ]
        }
      ]
    },
    {
      "cell_type": "code",
      "source": [
        "print(\"Soal 3 : (a)\")\n",
        "print( )\n",
        "print(\"Daftar Belanja Sembako :\")\n",
        "for item in ListBelanja:\n",
        "    print(item)"
      ],
      "metadata": {
        "colab": {
          "base_uri": "https://localhost:8080/"
        },
        "id": "3M9pBptSZgG1",
        "outputId": "d51ccd2e-c6d8-48f7-8013-8548866896a1"
      },
      "execution_count": 15,
      "outputs": [
        {
          "output_type": "stream",
          "name": "stdout",
          "text": [
            "Soal 3 : (a)\n",
            "\n",
            "Daftar Belanja Sembako :\n",
            "Beras\n",
            "Minyak\n",
            "Telur\n",
            "Gula\n",
            "Kopi\n"
          ]
        }
      ]
    },
    {
      "cell_type": "code",
      "source": [
        "print(\"Soal 3 : (a)\")\n",
        "print( )\n",
        "print(\"List Harga Sembako\")\n",
        "daftar_harga = {\n",
        "    \"Beras\": 12000,\n",
        "    \"Minyak\": 17000,\n",
        "    \"Telur\": 24000,\n",
        "    \"Gula\": 15000,\n",
        "    \"Kopi\": 20000\n",
        "}\n",
        "sembako_belanjaan = ['Beras', 'Minyak', 'Telur', 'Gula', 'Kopi']"
      ],
      "metadata": {
        "colab": {
          "base_uri": "https://localhost:8080/"
        },
        "id": "LZIPCfX2Z8n6",
        "outputId": "a7c86fd9-5c96-4e88-f538-273e6ce6c2af"
      },
      "execution_count": 16,
      "outputs": [
        {
          "output_type": "stream",
          "name": "stdout",
          "text": [
            "Soal 3 : (a)\n",
            "\n",
            "List Harga Sembako\n"
          ]
        }
      ]
    },
    {
      "cell_type": "code",
      "source": [
        "print(\"Soal 3 : (a)\")\n",
        "print( )\n",
        "list_Harga = [daftar_harga[x] for x in sembako_belanjaan]\n",
        "print(\"List Harga : \",list_Harga)"
      ],
      "metadata": {
        "colab": {
          "base_uri": "https://localhost:8080/"
        },
        "id": "_kxCbKNeb5Ng",
        "outputId": "d1287b00-fa51-4f4a-bc2e-65f082987c55"
      },
      "execution_count": 17,
      "outputs": [
        {
          "output_type": "stream",
          "name": "stdout",
          "text": [
            "Soal 3 : (a)\n",
            "\n",
            "List Harga :  [12000, 17000, 24000, 15000, 20000]\n"
          ]
        }
      ]
    },
    {
      "cell_type": "code",
      "source": [
        "print(\"Soal 3 : (b)\")\n",
        "print( )\n",
        "total_harga = sum(list_Harga)\n",
        "print(\"Total Harga : \",total_harga)"
      ],
      "metadata": {
        "colab": {
          "base_uri": "https://localhost:8080/"
        },
        "id": "V1ZXpOcXc0jL",
        "outputId": "0a19a7d2-38f3-4e1b-8cf1-0b63c27dddef"
      },
      "execution_count": 18,
      "outputs": [
        {
          "output_type": "stream",
          "name": "stdout",
          "text": [
            "Soal 3 : (b)\n",
            "\n",
            "Total Harga :  88000\n"
          ]
        }
      ]
    },
    {
      "cell_type": "code",
      "source": [
        "print(\"Soal 4\")\n",
        "print(\" \")\n",
        "import math"
      ],
      "metadata": {
        "colab": {
          "base_uri": "https://localhost:8080/"
        },
        "id": "EozcdEMylqZj",
        "outputId": "8d80501d-b3da-4070-a6d9-ae674aa89b49"
      },
      "execution_count": 19,
      "outputs": [
        {
          "output_type": "stream",
          "name": "stdout",
          "text": [
            "Soal 4\n",
            " \n"
          ]
        }
      ]
    },
    {
      "cell_type": "code",
      "source": [
        "print(\"Soal 4\")\n",
        "def lingkaran(r):\n",
        "   luas = math.pi * (r ** 2)\n",
        "   keliling = 2 * math.pi * r\n",
        "   return luas, keliling"
      ],
      "metadata": {
        "id": "7X8NMdLYmPc8",
        "colab": {
          "base_uri": "https://localhost:8080/"
        },
        "outputId": "b2eac34b-150d-4fe8-932d-02c15c5945dd"
      },
      "execution_count": 20,
      "outputs": [
        {
          "output_type": "stream",
          "name": "stdout",
          "text": [
            "Soal 4\n"
          ]
        }
      ]
    },
    {
      "cell_type": "code",
      "source": [
        "print(\"Soal 4\")\n",
        "print(\" \")\n",
        "r = 7\n",
        "luas, kel = lingkaran(r)\n",
        "print(f\"Jari-jari: {r}\")\n",
        "print(f\"Luas lingkaran: {luas:.2f}\")\n",
        "print(f\"Keliling lingkaran: {kel:.2f}\")"
      ],
      "metadata": {
        "colab": {
          "base_uri": "https://localhost:8080/"
        },
        "id": "ro480-odmaWZ",
        "outputId": "81c688ac-9810-495e-ff1f-2ff1e669d37f"
      },
      "execution_count": 21,
      "outputs": [
        {
          "output_type": "stream",
          "name": "stdout",
          "text": [
            "Soal 4\n",
            " \n",
            "Jari-jari: 7\n",
            "Luas lingkaran: 153.94\n",
            "Keliling lingkaran: 43.98\n"
          ]
        }
      ]
    },
    {
      "cell_type": "code",
      "source": [
        "print(\"Soal 5\")\n",
        "print(\" \")\n",
        "print(\"Input Usia\")\n",
        "usia = 16"
      ],
      "metadata": {
        "colab": {
          "base_uri": "https://localhost:8080/"
        },
        "id": "gUbpUHAYmuZE",
        "outputId": "1fbb7c09-1c5d-4c5d-c395-e06e4c94af89"
      },
      "execution_count": 22,
      "outputs": [
        {
          "output_type": "stream",
          "name": "stdout",
          "text": [
            "Soal 5\n",
            " \n",
            "Input Usia\n"
          ]
        }
      ]
    },
    {
      "cell_type": "code",
      "source": [
        "if 0 <= usia <= 13:\n",
        "    kategori = \"Anak-anak\"\n",
        "elif 14 <= usia <= 24:\n",
        "    kategori = \"Remaja\"\n",
        "elif 25 <= usia <= 49:\n",
        "    kategori = \"Dewasa\"\n",
        "elif usia >= 50:\n",
        "    kategori = \"Lansia\"\n",
        "else:\n",
        "    kategori = \"Usia tidak valid\""
      ],
      "metadata": {
        "id": "E0qQP0Kgm86a"
      },
      "execution_count": 23,
      "outputs": []
    },
    {
      "cell_type": "code",
      "source": [
        "print(\"Soal 5\")\n",
        "print(\" \")\n",
        "print (\"Berapa usia anda?\", usia)\n",
        "print (\"Anda Dikategorikan sebagai : \", kategori)"
      ],
      "metadata": {
        "colab": {
          "base_uri": "https://localhost:8080/"
        },
        "id": "GIhHqs95m-EP",
        "outputId": "f805471c-0934-4464-912d-2f7162f9e167"
      },
      "execution_count": 24,
      "outputs": [
        {
          "output_type": "stream",
          "name": "stdout",
          "text": [
            "Soal 5\n",
            " \n",
            "Berapa usia anda? 16\n",
            "Anda Dikategorikan sebagai :  Remaja\n"
          ]
        }
      ]
    }
  ]
}